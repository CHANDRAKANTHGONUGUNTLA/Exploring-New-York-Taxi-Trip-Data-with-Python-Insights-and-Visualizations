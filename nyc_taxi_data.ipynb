{
 "cells": [
  {
   "cell_type": "code",
   "execution_count": 1,
   "id": "40ab43f1",
   "metadata": {
    "scrolled": true
   },
   "outputs": [],
   "source": [
    "import csv\n",
    "import time\n",
    "import matplotlib.pyplot as plt\n",
    "import seaborn as sns\n",
    "start=time.time()\n",
    "with open('trip_data_5.csv', 'r') as file:\n",
    "    csv = csv.reader(file)\n",
    "    data = list(csv)"
   ]
  },
  {
   "cell_type": "code",
   "execution_count": 2,
   "id": "7b69c217",
   "metadata": {},
   "outputs": [
    {
     "data": {
      "text/plain": [
       "3.791014806429545"
      ]
     },
     "execution_count": 2,
     "metadata": {},
     "output_type": "execute_result"
    }
   ],
   "source": [
    "(time.time()-start)/60"
   ]
  },
  {
   "cell_type": "code",
   "execution_count": 3,
   "id": "6abc6fbf",
   "metadata": {},
   "outputs": [
    {
     "data": {
      "text/plain": [
       "['medallion',\n",
       " ' hack_license',\n",
       " ' vendor_id',\n",
       " ' rate_code',\n",
       " ' store_and_fwd_flag',\n",
       " ' pickup_datetime',\n",
       " ' dropoff_datetime',\n",
       " ' passenger_count',\n",
       " ' trip_time_in_secs',\n",
       " ' trip_distance',\n",
       " ' pickup_longitude',\n",
       " ' pickup_latitude',\n",
       " ' dropoff_longitude',\n",
       " ' dropoff_latitude']"
      ]
     },
     "execution_count": 3,
     "metadata": {},
     "output_type": "execute_result"
    }
   ],
   "source": [
    "data[0]"
   ]
  },
  {
   "cell_type": "markdown",
   "id": "0267f2f1",
   "metadata": {},
   "source": [
    "### 1. What datetime range does your data cover?  How many rows are there total?"
   ]
  },
  {
   "cell_type": "code",
   "execution_count": 4,
   "id": "4fe6ab44",
   "metadata": {},
   "outputs": [
    {
     "name": "stdout",
     "output_type": "stream",
     "text": [
      "pickup_date:  2013-05-01 00:04:00\n",
      "dropoff_date:  2013-05-26 22:17:53\n"
     ]
    }
   ],
   "source": [
    "from datetime import datetime\n",
    "pickup_datetime=data[1][5]\n",
    "dropoff_datetime=data[-1][6]\n",
    "\n",
    "print('pickup_date: ',pickup_datetime)\n",
    "print('dropoff_date: ',dropoff_datetime)"
   ]
  },
  {
   "cell_type": "code",
   "execution_count": 5,
   "id": "ef36111b",
   "metadata": {},
   "outputs": [
    {
     "name": "stdout",
     "output_type": "stream",
     "text": [
      "Total Number of the rows in dataset(including attributes):  15285050\n",
      "Total Number of the rows in dataset(excluding attributes):  15285049\n"
     ]
    }
   ],
   "source": [
    "total_rows=len(data)\n",
    "print('Total Number of the rows in dataset(including attributes): ',total_rows)\n",
    "total_data=total_rows-1\n",
    "print('Total Number of the rows in dataset(excluding attributes): ',total_data)"
   ]
  },
  {
   "cell_type": "markdown",
   "id": "a6d5bc3c",
   "metadata": {},
   "source": [
    "### 2. What are the field names?  Give descriptions for each field."
   ]
  },
  {
   "cell_type": "code",
   "execution_count": 6,
   "id": "c6fb4d43",
   "metadata": {},
   "outputs": [
    {
     "name": "stdout",
     "output_type": "stream",
     "text": [
      "The field names are:  \n",
      "['medallion', ' hack_license', ' vendor_id', ' rate_code', ' store_and_fwd_flag', ' pickup_datetime', ' dropoff_datetime', ' passenger_count', ' trip_time_in_secs', ' trip_distance', ' pickup_longitude', ' pickup_latitude', ' dropoff_longitude', ' dropoff_latitude']\n"
     ]
    }
   ],
   "source": [
    "print('The field names are:  ')\n",
    "print(data[0])"
   ]
  },
  {
   "cell_type": "markdown",
   "id": "e4eccdec",
   "metadata": {},
   "source": [
    "\n",
    "* **medallion**: It is a unique identifier for the taxi cab\n",
    "* **hack_license**: A unique license ID assigned for the taxi driver\n",
    "* **vendor_id**: A unique identification provided to the taxi company\n",
    "* **rate_code**: The rate code for the trip (e.g. 1=standard rate; 2=JFK airport rate; 3= Newark; 4=Nassau or Westchester; 5 =Negotiated fare; 6 =Group ride .)\n",
    "* **store_and_fwd_flag**: A flag indicating whether the trip data was held in vehicle memory before sending to the vendor (Y=store and forward; N=not a store and forward trip)\n",
    "* **pickup_datetime**: The date and time when the passengers were picked up\n",
    "* **dropoff_datetime**: The date and time when the passengers were dropped off\n",
    "* **passenger_coun**: Total number of passengers onboard the vehicle for each trip (driver entered value)\n",
    "* **trip_time_in_secs**: Duration of each trip in seconds\n",
    "* **trip_distance**: Each trip distance in miles\n",
    "* **pickup_longitude**: Longitude coordinate of the pickup location\n",
    "* **pickup_latitude**: Latitude coordinate of the pickup location\n",
    "* **dropoff_longitude**: Longitude coordinate of the dropoff location\n",
    "* **dropoff_latitude**: Latitude coordinate of the dropoff location"
   ]
  },
  {
   "cell_type": "markdown",
   "id": "86499696",
   "metadata": {},
   "source": [
    "### 3. Give some sample data for each field."
   ]
  },
  {
   "cell_type": "code",
   "execution_count": 7,
   "id": "576d412d",
   "metadata": {},
   "outputs": [
    {
     "name": "stdout",
     "output_type": "stream",
     "text": [
      "['medallion', ' hack_license', ' vendor_id', ' rate_code', ' store_and_fwd_flag', ' pickup_datetime', ' dropoff_datetime', ' passenger_count', ' trip_time_in_secs', ' trip_distance', ' pickup_longitude', ' pickup_latitude', ' dropoff_longitude', ' dropoff_latitude']\n",
      "['3B1A31779BCE30367D00C6F7911573C0', 'AED0496C937E41C4515D64E851F873AB', 'VTS', '1', '', '2013-05-01 00:04:00', '2013-05-01 00:12:00', '1', '480', '1.34', '-73.982285', '40.772816', '-73.986214', '40.758743']\n"
     ]
    }
   ],
   "source": [
    "sample=data[:2]\n",
    "print(sample[0])\n",
    "print(sample[1])"
   ]
  },
  {
   "cell_type": "markdown",
   "id": "17b265d8",
   "metadata": {},
   "source": [
    "### 4. What MySQL data types / len would you need to store each of the fields?"
   ]
  },
  {
   "cell_type": "markdown",
   "id": "24519072",
   "metadata": {},
   "source": [
    "#### Data type and length of each field:\n",
    "* **medallion**: VARCHAR(32)\n",
    "* **hack_license**: VARCHAR(32)\n",
    "* **vendor_id**: VARCHAR(3)\n",
    "* **rate_code**: INT(2)\n",
    "* **store_and_fwd_flag**: VARCHAR(1)\n",
    "* **pickup_datetime**: DATETIME, format: YYYY-MM-DD HH:MM:SS\n",
    "* **dropoff_datetime**: DATETIME, format: YYYY-MM-DD HH:MM:SS\n",
    "* **passenger_coun**: INT(2)\n",
    "* **trip_time_in_secs**: INT(6)\n",
    "* **trip_distance**: FLOAT(5,2)\n",
    "* **pickup_longitude**: DECIMAL(8,6)\n",
    "* **pickup_latitude**: DECIMAL(8,6)\n",
    "* **dropoff_longitude**: DECIMAL(8,6)\n",
    "* **dropoff_latitude**: DECIMAL(8,6)"
   ]
  },
  {
   "cell_type": "markdown",
   "id": "ffe8063f",
   "metadata": {},
   "source": [
    "###  5. What is the geographic range of your data (min/max - X/Y)?\n",
    "     1. Plot this (approximately on a map)\n"
   ]
  },
  {
   "cell_type": "code",
   "execution_count": 189,
   "id": "3b5cde49",
   "metadata": {},
   "outputs": [
    {
     "name": "stdout",
     "output_type": "stream",
     "text": [
      "pickup_latitude_min:  40.400002\n",
      "pickup_longitude_min:  -74.399635\n",
      "pickup_latitude_max:  41.019974\n",
      "pickup_longitude_max:  -72.199997\n",
      "dropoff_latitude_min:  40.75\n",
      "dropoff_longitude_min:  -74.491753\n",
      "dropoff_latitude_max:  40.99995\n",
      "dropoff_longitude_max:  -72.066666\n"
     ]
    }
   ],
   "source": [
    " import csv\n",
    "pickup_lat_min = 90\n",
    "pickup_lat_max = -90\n",
    "pickup_long_min = 180\n",
    "pickup_long_max = -180\n",
    "dropoff_lat_min = 90\n",
    "dropoff_lat_max = -90\n",
    "dropoff_long_min = 180\n",
    "dropoff_long_max = -180\n",
    "n = 0\n",
    "with open('trip_data_5.csv', 'r') as file:\n",
    "    r = csv.DictReader(file)\n",
    "    for row in r:\n",
    "        if n > 0:\n",
    "            try:\n",
    "                pickup_lat = float(row[' pickup_latitude'])\n",
    "                pickup_long = float(row[' pickup_longitude'])\n",
    "                dropoff_lat = float(row[' dropoff_latitude'])\n",
    "                dropoff_long = float(row[' dropoff_longitude'])\n",
    "                if (-74.4 <= pickup_long <= -72.05 and 40.4 <= pickup_lat<= 41.02):\n",
    "                    pickup_lat_min = min(pickup_lat_min, pickup_lat)\n",
    "                    pickup_lat_max = max(pickup_lat_max, pickup_lat)\n",
    "                    pickup_long_min = min(pickup_long_min, pickup_long)\n",
    "                    pickup_long_max = max(pickup_long_max, pickup_long)\n",
    "                if dropoff_long is not None and (-74.5 <= dropoff_long <= -72.02 and 40.75 <= dropoff_lat<= 41):\n",
    "                    dropoff_lat_min = min(dropoff_lat_min, dropoff_lat)\n",
    "                    dropoff_lat_max = max(dropoff_lat_max, dropoff_lat)\n",
    "                    dropoff_long_min = min(dropoff_long_min, dropoff_long)\n",
    "                    dropoff_long_max = max(dropoff_long_max, dropoff_long)\n",
    "            except ValueError:\n",
    "                continue\n",
    "        n+=1\n",
    "        if n > 1000000000:\n",
    "            break\n",
    "print(\"pickup_latitude_min: \" ,pickup_lat_min)\n",
    "print(\"pickup_longitude_min: \",pickup_long_min)\n",
    "\n",
    "print(\"pickup_latitude_max: \",pickup_lat_max)\n",
    "print(\"pickup_longitude_max: \",pickup_long_max)\n",
    "\n",
    "print(\"dropoff_latitude_min: \",dropoff_lat_min)\n",
    "print(\"dropoff_longitude_min: \",dropoff_long_min)\n",
    "\n",
    "print(\"dropoff_latitude_max: \",dropoff_lat_max)\n",
    "print(\"dropoff_longitude_max: \",dropoff_long_max)"
   ]
  },
  {
   "cell_type": "code",
   "execution_count": null,
   "id": "ee69b00c",
   "metadata": {},
   "outputs": [],
   "source": []
  },
  {
   "cell_type": "markdown",
   "id": "0dec6dbf",
   "metadata": {},
   "source": [
    "###  6. What is the average computed trip distance? (You should use Haversine Distance)\n",
    "     1. Draw a histogram of the trip distances binned anyway you see fit.\n"
   ]
  },
  {
   "cell_type": "code",
   "execution_count": 13,
   "id": "bb324232",
   "metadata": {},
   "outputs": [],
   "source": [
    "from math import radians, cos, sin, asin, sqrt\n",
    "\n",
    "def haversine(lon1, lat1, lon2, lat2):\n",
    "   \n",
    "    # convert decimal degrees to radians \n",
    "    lon1, lat1, lon2, lat2 = map(radians, [lon1, lat1, lon2, lat2])\n",
    "\n",
    "    # haversine formula \n",
    "    dlon = lon2 - lon1 \n",
    "    dlat = lat2 - lat1 \n",
    "    a = sin(dlat/2)**2 + cos(lat1) * cos(lat2) * sin(dlon/2)**2\n",
    "    c = 2 * asin(sqrt(a)) \n",
    "    r = 3958.8 # Radius of earth in kilometers. Use 3958.8 for miles.\n",
    "    return c * r"
   ]
  },
  {
   "cell_type": "code",
   "execution_count": 68,
   "id": "cf018e22",
   "metadata": {},
   "outputs": [],
   "source": [
    "average_distance=[]\n",
    "for row in range(1,len(data)):\n",
    "    if data[row][10]=='' or data[row][11]=='' or data[row][12]=='' or data[row][13]=='':\n",
    "        continue\n",
    "    else:\n",
    "        ans= haversine(float(data[row][10]),float(data[row][11]),float(data[row][12]),float(data[row][13]))\n",
    "        \n",
    "        average_distance.append(round(ans,ndigits=2))"
   ]
  },
  {
   "cell_type": "code",
   "execution_count": 92,
   "id": "db6d9922",
   "metadata": {},
   "outputs": [
    {
     "data": {
      "text/plain": [
       "15285010"
      ]
     },
     "execution_count": 92,
     "metadata": {},
     "output_type": "execute_result"
    }
   ],
   "source": [
    "len(average_distance)"
   ]
  },
  {
   "cell_type": "code",
   "execution_count": 165,
   "id": "ada28117",
   "metadata": {},
   "outputs": [],
   "source": [
    "average_distance=sorted(average_distance)\n",
    "\n",
    "mean=sum(average_distance)/len(average_distance)\n",
    "\n",
    "median=average_distance[int(len(average_distance)/2)]\n",
    "\n",
    "Q1=average_distance[len(average_distance)//4]\n",
    "\n",
    "Q3=average_distance[(len(average_distance)//4)*3]\n",
    "\n",
    "IQR= Q3-Q1\n",
    "\n",
    "lower = round(Q1-1.5*IQR,ndigits=2)\n",
    "higher= round(Q3+1.5*IQR,ndigits=2)"
   ]
  },
  {
   "cell_type": "code",
   "execution_count": 166,
   "id": "a16b4629",
   "metadata": {},
   "outputs": [
    {
     "data": {
      "text/plain": [
       "(-1.78, 5.02)"
      ]
     },
     "execution_count": 166,
     "metadata": {},
     "output_type": "execute_result"
    }
   ],
   "source": [
    "lower,higher"
   ]
  },
  {
   "cell_type": "code",
   "execution_count": 174,
   "id": "1e4d7374",
   "metadata": {},
   "outputs": [],
   "source": [
    "cleaned_data=[]\n",
    "for value in average_distance:\n",
    "    if value <= higher:\n",
    "        cleaned_data.append(value)"
   ]
  },
  {
   "cell_type": "code",
   "execution_count": 176,
   "id": "90964731",
   "metadata": {},
   "outputs": [
    {
     "data": {
      "text/plain": [
       "13964486"
      ]
     },
     "execution_count": 176,
     "metadata": {},
     "output_type": "execute_result"
    }
   ],
   "source": [
    "len(cleaned_data)"
   ]
  },
  {
   "cell_type": "code",
   "execution_count": 178,
   "id": "5481a689",
   "metadata": {},
   "outputs": [
    {
     "data": {
      "text/plain": [
       "(0.0, 5.02)"
      ]
     },
     "execution_count": 178,
     "metadata": {},
     "output_type": "execute_result"
    }
   ],
   "source": [
    "min(cleaned_data),max(cleaned_data)"
   ]
  },
  {
   "cell_type": "code",
   "execution_count": 190,
   "id": "02d8aa96",
   "metadata": {},
   "outputs": [
    {
     "data": {
      "image/png": "[encoded data removed]",
      "text/plain": [
       "<Figure size 432x288 with 1 Axes>"
      ]
     },
     "metadata": {
      "needs_background": "light"
     },
     "output_type": "display_data"
    }
   ],
   "source": [
    "import matplotlib.pyplot as plt\n",
    "\n",
    "num_bins = 50  # Experimenting with this value\n",
    "plt.hist(cleaned_data, bins=num_bins, edgecolor='k', range=(0.0, 5.02))\n",
    "plt.xlabel('Average Distance')\n",
    "plt.ylabel('Frequency')\n",
    "plt.title('Histogram Plot')\n",
    "plt.show()\n"
   ]
  },
  {
   "cell_type": "code",
   "execution_count": 191,
   "id": "8e0b5fea",
   "metadata": {
    "scrolled": true
   },
   "outputs": [
    {
     "data": {
      "image/png": "[encoded data removed]",
      "text/plain": [
       "<Figure size 432x288 with 1 Axes>"
      ]
     },
     "metadata": {
      "needs_background": "light"
     },
     "output_type": "display_data"
    }
   ],
   "source": [
    "sns.histplot(data=cleaned_data)\n",
    "plt.xlabel('Average Distance')\n",
    "plt.ylabel('Frequency')\n",
    "plt.title('Histogram Plot')\n",
    "plt.show()"
   ]
  },
  {
   "cell_type": "markdown",
   "id": "d99b62a8",
   "metadata": {},
   "source": [
    "###  7. What are the distinct values for each field? (If applicable)\n"
   ]
  },
  {
   "cell_type": "code",
   "execution_count": 31,
   "id": "755251a3",
   "metadata": {
    "scrolled": false
   },
   "outputs": [
    {
     "name": "stdout",
     "output_type": "stream",
     "text": [
      "Number of distinct values in medallion: 13476 \n",
      "The distinct values are:  ['262E47307C21E83C554CBC776F162B6C', 'AEB71B5F990A29E335C76ECBC28F9DB8', 'F55993E6D22D458A8F4A69AB38FF48CE', '962CD9C2298CA815B9C8FC831E694BB3', '9409531456308578F69EA758905CA4F9']\n",
      "\n",
      "Number of distinct values in  hack_license: 33280 \n",
      "The distinct values are:  ['B4BF30B5C1F3FCDAFF1F730CB5A775B5', 'A9E021DF57613D5EC9EBBDFA2999981A', '238067D9B875E1A4153EE18CADFDF499', 'C8DAFE07427E4EBEE671CCB0F1329607', 'B0B1A680BE3F3B581E1F5AD2137FB87D']\n",
      "\n",
      "Number of distinct values in  vendor_id: 2 \n",
      "The distinct values are:  ['VTS', 'CMT']\n",
      "\n",
      "Number of distinct values in  rate_code: 10 \n",
      "The distinct values are:  ['210', '2', '65', '5', '0']\n",
      "\n",
      "Number of distinct values in  store_and_fwd_flag: 3 \n",
      "The distinct values are:  ['', 'Y', 'N']\n",
      "\n",
      "Number of distinct values in  pickup_datetime: 2342601 \n",
      "The distinct values are:  ['2013-05-13 12:22:53', '2013-05-27 20:18:30', '2013-05-26 03:28:34', '2013-05-26 14:41:31', '2013-05-09 14:22:43']\n",
      "\n",
      "Number of distinct values in  dropoff_datetime: 2345029 \n",
      "The distinct values are:  ['2013-05-13 12:22:53', '2013-05-27 20:18:30', '2013-05-26 03:28:34', '2013-05-07 18:10:16', '2013-05-09 14:22:43']\n",
      "\n",
      "Number of distinct values in  passenger_count: 7 \n",
      "The distinct values are:  ['2', '5', '0', '6', '3']\n",
      "\n",
      "Number of distinct values in  trip_time_in_secs: 6772 \n",
      "The distinct values are:  ['1359', '5079', '3052', '4643', '426']\n",
      "\n",
      "Number of distinct values in  trip_distance: 4231 \n",
      "The distinct values are:  ['.47', '34.23', '18.84', '36.22', '43.39']\n",
      "\n",
      "Number of distinct values in  pickup_longitude: 75976 \n",
      "The distinct values are:  ['40.811741', '-73.926247', '40.754044', '40.766403', '40.703217']\n",
      "\n",
      "Number of distinct values in  pickup_latitude: 82863 \n",
      "The distinct values are:  ['40.615849', '40.766403', '40.641212', '40.734966', '-73.934441']\n",
      "\n",
      "Number of distinct values in  dropoff_longitude: 103103 \n",
      "The distinct values are:  ['40.85635', '', '-74.076294', '40.766403', '-74.193481']\n",
      "\n",
      "Number of distinct values in  dropoff_latitude: 114267 \n",
      "The distinct values are:  ['40.85635', '', '40.603645', '40.615849', '41.019608']\n",
      "\n"
     ]
    }
   ],
   "source": [
    "for column in range(len(data[0])):\n",
    "    unique=[]\n",
    "    for row in range(1,len(data)):\n",
    "        unique.append(data[row][column])\n",
    "    print('Number of distinct values in {}: {} '.format(data[0][column],len(set(unique))))\n",
    "    if len(set(unique))>2:\n",
    "        print('The distinct values are: ',list(set(unique))[:5])\n",
    "    else:\n",
    "        print('The distinct values are: ',list(set(unique)))\n",
    "    print()\n",
    "    "
   ]
  },
  {
   "cell_type": "markdown",
   "id": "c7788a0f",
   "metadata": {},
   "source": [
    "###  8. For other numeric types besides lat and lon, what are the min and max values?"
   ]
  },
  {
   "cell_type": "markdown",
   "id": "353f20d8",
   "metadata": {},
   "source": [
    "####  Ans. \n",
    "1. Fields with numeric datatype other than latitudes, longitudes and Datetime are \"rate_code, passenger_count, trip_time_in_secs, trip_distance\".\n",
    "2. The index values of the above mentioned fields are [3, 7, 8, 9]"
   ]
  },
  {
   "cell_type": "code",
   "execution_count": 35,
   "id": "ef1db731",
   "metadata": {},
   "outputs": [
    {
     "name": "stdout",
     "output_type": "stream",
     "text": [
      "[3, 7, 8, 9]\n"
     ]
    }
   ],
   "source": [
    "indicies=[data[0].index(' rate_code'),data[0].index(' passenger_count'),\n",
    "          data[0].index(' trip_time_in_secs'),data[0].index(' trip_distance')]\n",
    "print(indicies)"
   ]
  },
  {
   "cell_type": "code",
   "execution_count": 36,
   "id": "640591a3",
   "metadata": {},
   "outputs": [
    {
     "name": "stdout",
     "output_type": "stream",
     "text": [
      "The minimum and maximum values in \" rate_code\" field are:\n",
      "Minimum Value:  0\n",
      "Maximum Value:  7\n",
      "\n",
      "The minimum and maximum values in \" passenger_count\" field are:\n",
      "Minimum Value:  0\n",
      "Maximum Value:  6\n",
      "\n",
      "The minimum and maximum values in \" trip_time_in_secs\" field are:\n",
      "Minimum Value:  0\n",
      "Maximum Value:  9995\n",
      "\n",
      "The minimum and maximum values in \" trip_distance\" field are:\n",
      "Minimum Value:  .00\n",
      "Maximum Value:  98.00\n",
      "\n"
     ]
    }
   ],
   "source": [
    "for index_number in indicies:\n",
    "    values=[]\n",
    "    for row in range(1,len(data)):\n",
    "        values.append(data[row][index_number])\n",
    "    print('The minimum and maximum values in \"'+data[0][index_number]+'\" field are:')\n",
    "    print('Minimum Value: ',min(values))\n",
    "    print('Maximum Value: ',max(values))\n",
    "    print()\n",
    "    "
   ]
  },
  {
   "cell_type": "markdown",
   "id": "1a678d97",
   "metadata": {},
   "source": [
    "###  9. Create a chart which shows the average number of passengers each hour of the day.              (X axis should have 24 hours)"
   ]
  },
  {
   "cell_type": "code",
   "execution_count": 37,
   "id": "8bd4ec5a",
   "metadata": {},
   "outputs": [],
   "source": [
    "from datetime import datetime\n",
    "hour_pass={}\n",
    "for i in range(24):\n",
    "    hour_pass[i]=[]\n",
    "\n",
    "for row in range(1,len(data)):\n",
    "    time=datetime.strptime(data[row][5],'%Y-%m-%d %H:%M:%S').hour\n",
    "    hour_pass[time].append(int(data[row][7]))\n",
    "    \n",
    "averages=[]\n",
    "for i in range(len(hour_pass)):\n",
    "    mean=sum(hour_pass[i])/len(hour_pass[i])\n",
    "    averages.append(mean)"
   ]
  },
  {
   "cell_type": "code",
   "execution_count": 38,
   "id": "021c4ea5",
   "metadata": {},
   "outputs": [
    {
     "data": {
      "image/png": "[encoded data removed]",
      "text/plain": [
       "<Figure size 432x288 with 1 Axes>"
      ]
     },
     "metadata": {
      "needs_background": "light"
     },
     "output_type": "display_data"
    }
   ],
   "source": [
    "sns.barplot(x=list(hour_pass.keys()),y=averages)\n",
    "plt.grid(axis='y')\n",
    "plt.xlabel(\"Hour of the Day\")\n",
    "plt.ylabel(\"Average Passenger Count\")\n",
    "plt.title(\"Average Number of Passengers by Hour\")\n",
    "plt.show()"
   ]
  },
  {
   "cell_type": "markdown",
   "id": "dba768f9",
   "metadata": {},
   "source": [
    "###  10. Create a new CSV file which has only one out of every thousand rows.\n",
    "\n"
   ]
  },
  {
   "cell_type": "code",
   "execution_count": 78,
   "id": "d1dc5646",
   "metadata": {},
   "outputs": [],
   "source": [
    "import csv\n",
    "file ='trip_data_5.csv'\n",
    "f = open(file,'r')\n",
    "reader = csv.reader(f)\n",
    "with open('subset_data.csv','w') as f1:\n",
    "    f1.write('')\n",
    "\n",
    "with open('subset_data.csv','a') as f1:\n",
    "    writer = csv.writer(f1, delimiter=',', lineterminator='\\n')\n",
    "    header = next(reader)\n",
    "    writer.writerow(header)\n",
    "    for i,row in enumerate(reader):\n",
    "        if i > 0:\n",
    "            i += 1\n",
    "            if i % 1000 == 0:\n",
    "                writer.writerow(row)\n",
    "        if i > 1000000000:\n",
    "            break"
   ]
  },
  {
   "cell_type": "markdown",
   "id": "280a9de2",
   "metadata": {},
   "source": [
    "### 11. Repeat step 9 with the reduced dataset and compare the two charts."
   ]
  },
  {
   "cell_type": "code",
   "execution_count": 84,
   "id": "6f702294",
   "metadata": {},
   "outputs": [
    {
     "name": "stdout",
     "output_type": "stream",
     "text": [
      "15286\n"
     ]
    }
   ],
   "source": [
    "import csv\n",
    "with open('subset_data.csv', 'r') as file:\n",
    "    csv = csv.reader(file)\n",
    "    subset_data = list(csv)\n",
    "    \n",
    "print(len(subset_data))"
   ]
  },
  {
   "cell_type": "code",
   "execution_count": 90,
   "id": "9a42d5c8",
   "metadata": {},
   "outputs": [
    {
     "data": {
      "text/plain": [
       "15285050"
      ]
     },
     "execution_count": 90,
     "metadata": {},
     "output_type": "execute_result"
    }
   ],
   "source": [
    "len(data)"
   ]
  },
  {
   "cell_type": "code",
   "execution_count": 87,
   "id": "25f5de9b",
   "metadata": {},
   "outputs": [],
   "source": [
    "hour_pass={}\n",
    "for i in range(24):\n",
    "    hour_pass[i]=[]\n",
    "\n",
    "for row in range(1,len(subset_data)):\n",
    "    time=datetime.strptime(subset_data[row][5],'%Y-%m-%d %H:%M:%S').hour\n",
    "    hour_pass[time].append(int(subset_data[row][7]))\n",
    "    \n",
    "averages=[]\n",
    "for i in range(len(hour_pass)):\n",
    "    mean=sum(hour_pass[i])/len(hour_pass[i])\n",
    "    averages.append(mean)"
   ]
  },
  {
   "cell_type": "code",
   "execution_count": 89,
   "id": "f56fb418",
   "metadata": {},
   "outputs": [
    {
     "data": {
      "image/png": "[encoded data removed]",
      "text/plain": [
       "<Figure size 432x288 with 1 Axes>"
      ]
     },
     "metadata": {
      "needs_background": "light"
     },
     "output_type": "display_data"
    }
   ],
   "source": [
    "sns.barplot(x=list(hour_pass.keys()),y=averages)\n",
    "plt.grid(axis='y')\n",
    "plt.xlabel(\"Hour of the Day\")\n",
    "plt.ylabel(\"Average Passenger Count\")\n",
    "plt.title(\"Average Number of Passengers by Hour (subset data)\")\n",
    "plt.show()"
   ]
  },
  {
   "cell_type": "markdown",
   "id": "c5e3c3dc",
   "metadata": {},
   "source": [
    "   1. When compared to the full data, the average number of passengers at [1, 3, 4] hours is higher. Due to a lack of enough information. \n",
    "   2. The amount of data affects the value of \"Average.\" \n",
    "   3. More passengers are included in the majority of the reduced data at [1,3,4] hours. Whereas the total data really balances the number of travelers at [1,3,4] hours"
   ]
  },
  {
   "cell_type": "code",
   "execution_count": null,
   "id": "f44fb053",
   "metadata": {},
   "outputs": [],
   "source": []
  }
 ],
 "metadata": {
  "kernelspec": {
   "display_name": "Python 3 (ipykernel)",
   "language": "python",
   "name": "python3"
  },
  "language_info": {
   "codemirror_mode": {
    "name": "ipython",
    "version": 3
   },
   "file_extension": ".py",
   "mimetype": "text/x-python",
   "name": "python",
   "nbconvert_exporter": "python",
   "pygments_lexer": "ipython3",
   "version": "3.9.7"
  }
 },
 "nbformat": 4,
 "nbformat_minor": 5
}
